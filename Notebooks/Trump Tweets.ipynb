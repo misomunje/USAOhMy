{
 "cells": [
  {
   "cell_type": "markdown",
   "metadata": {},
   "source": [
    "# Trump Tweets"
   ]
  },
  {
   "cell_type": "markdown",
   "metadata": {},
   "source": [
    "Trump's tweets are available from [this](https://github.com/bpb27/trump_tweet_data_archive) github repository.  This repository drives the [Trump Twitter Archive](http://www.trumptwitterarchive.com/).\n",
    "\n",
    "This guy has sucked down tweets of other notable public people [here](https://github.com/bpb27/trump-tweet-archive). He also put his scraping tool up [here](https://github.com/bpb27/twitter_scraping).\n",
    "\n",
    "Let's pull down the data by grabbing the ```master.zip``` file. This is the entire archive. "
   ]
  },
  {
   "cell_type": "code",
   "execution_count": 1,
   "metadata": {},
   "outputs": [],
   "source": [
    "zipUrl=\"https://github.com/bpb27/trump_tweet_data_archive/archive/master.zip\""
   ]
  },
  {
   "cell_type": "markdown",
   "metadata": {},
   "source": [
    "We use python's requests library to do the http ```get``` and the ```zipfile``` to unpack it. We pull in ```os``` for file manipulation."
   ]
  },
  {
   "cell_type": "code",
   "execution_count": 2,
   "metadata": {},
   "outputs": [],
   "source": [
    "import requests,zipfile,os,re"
   ]
  },
  {
   "cell_type": "markdown",
   "metadata": {},
   "source": [
    "We are going to unpack this stuff into our Notebook's data directory."
   ]
  },
  {
   "cell_type": "code",
   "execution_count": 3,
   "metadata": {},
   "outputs": [],
   "source": [
    "zipLocal=\"Data/Trump Tweets/master.zip\"\n",
    "zipTargetDir=\"Data/Trump Tweets/\""
   ]
  },
  {
   "cell_type": "markdown",
   "metadata": {},
   "source": [
    "Execute the get, save the zip file, and extract it.  Note that I totally ignore protocol and do one line withs. Syntactic Freedom is still Freedom -- exercise it."
   ]
  },
  {
   "cell_type": "code",
   "execution_count": 4,
   "metadata": {},
   "outputs": [],
   "source": [
    "response = requests.get(zipUrl)\n",
    "with open(zipLocal,'wb') as f: f.write(response.content)\n",
    "with zipfile.ZipFile(zipLocal) as aZip: aZip.extractall(zipTargetDir)"
   ]
  },
  {
   "cell_type": "markdown",
   "metadata": {},
   "source": [
    "Let's see what we got."
   ]
  },
  {
   "cell_type": "code",
   "execution_count": 5,
   "metadata": {},
   "outputs": [],
   "source": [
    "def dirTree(rootDir='.'):\n",
    "    for dirName, subdirList, fileList in os.walk(rootDir):\n",
    "        print('Found directory: %s' % dirName)\n",
    "        for fname in fileList:\n",
    "            print('\\t%s' % fname)"
   ]
  },
  {
   "cell_type": "code",
   "execution_count": 6,
   "metadata": {},
   "outputs": [
    {
     "name": "stdout",
     "output_type": "stream",
     "text": [
      "Found directory: Data/Trump Tweets/\n",
      "\tmaster.zip\n",
      "\tmaster_2009.json\n",
      "\tmaster_2010.json\n",
      "\tmaster_2011.json\n",
      "\tmaster_2012.json\n",
      "\tmaster_2013.json\n",
      "\tmaster_2014.json\n",
      "\tmaster_2015.json\n",
      "\tmaster_2016.json\n",
      "\tmaster_2017.json\n",
      "Found directory: Data/Trump Tweets/Tweets\n",
      "\tmaster_2009.json\n",
      "\tmaster_2010.json\n",
      "\tmaster_2011.json\n",
      "\tmaster_2012.json\n",
      "\tmaster_2013.json\n",
      "\tmaster_2014.json\n",
      "\tmaster_2015.json\n",
      "\tmaster_2016.json\n",
      "\tmaster_2017.json\n",
      "Found directory: Data/Trump Tweets/trump_tweet_data_archive-master\n",
      "\t.gitignore\n",
      "\tREADME.md\n",
      "\tcondensed_2009.json.zip\n",
      "\tcondensed_2010.json.zip\n",
      "\tcondensed_2011.json.zip\n",
      "\tcondensed_2012.json.zip\n",
      "\tcondensed_2013.json.zip\n",
      "\tcondensed_2014.json.zip\n",
      "\tcondensed_2015.json.zip\n",
      "\tcondensed_2016.json.zip\n",
      "\tcondensed_2017.json.zip\n",
      "\tmaster_2009.json.zip\n",
      "\tmaster_2010.json.zip\n",
      "\tmaster_2011.json.zip\n",
      "\tmaster_2012.json.zip\n",
      "\tmaster_2013.json.zip\n",
      "\tmaster_2014.json.zip\n",
      "\tmaster_2015.json.zip\n",
      "\tmaster_2016.json.zip\n",
      "\tmaster_2017.json.zip\n"
     ]
    }
   ],
   "source": [
    "dirTree(zipTargetDir)"
   ]
  },
  {
   "cell_type": "markdown",
   "metadata": {},
   "source": [
    "# Parsing the Data"
   ]
  },
  {
   "cell_type": "markdown",
   "metadata": {},
   "source": [
    "First we find the file.  Ok, check out this Python 3.6 glob trick!. See the ```**```! It searches the whole subtree for this.  <span class=\"mark\">Where has this been my whole life?</span>"
   ]
  },
  {
   "cell_type": "code",
   "execution_count": 7,
   "metadata": {},
   "outputs": [
    {
     "name": "stdout",
     "output_type": "stream",
     "text": [
      "Oh yeah...\n",
      "  Data/Trump Tweets/trump_tweet_data_archive-master/master_2009.json.zip\n",
      "  Data/Trump Tweets/trump_tweet_data_archive-master/master_2010.json.zip\n",
      "  Data/Trump Tweets/trump_tweet_data_archive-master/master_2011.json.zip\n",
      "  Data/Trump Tweets/trump_tweet_data_archive-master/master_2012.json.zip\n",
      "  Data/Trump Tweets/trump_tweet_data_archive-master/master_2013.json.zip\n",
      "  Data/Trump Tweets/trump_tweet_data_archive-master/master_2014.json.zip\n",
      "  Data/Trump Tweets/trump_tweet_data_archive-master/master_2015.json.zip\n",
      "  Data/Trump Tweets/trump_tweet_data_archive-master/master_2016.json.zip\n",
      "  Data/Trump Tweets/trump_tweet_data_archive-master/master_2017.json.zip\n"
     ]
    }
   ],
   "source": [
    "import glob\n",
    "json_tweet_zfiles=glob.glob(zipTargetDir+'**/master_*.zip')\n",
    "print('Oh yeah...\\n  '+'\\n  '.join(json_tweet_zfiles))"
   ]
  },
  {
   "cell_type": "markdown",
   "metadata": {},
   "source": [
    "Now we unzip the files and read in the ```json``` files."
   ]
  },
  {
   "cell_type": "code",
   "execution_count": null,
   "metadata": {},
   "outputs": [],
   "source": [
    "import json\n",
    "import more_itertools as mit\n"
   ]
  },
  {
   "cell_type": "code",
   "execution_count": 8,
   "metadata": {},
   "outputs": [],
   "source": [
    "tweetDir=zipTargetDir+'Tweets/'\n",
    "for fn in json_tweet_zfiles:\n",
    "    with zipfile.ZipFile(fn) as aZip: aZip.extractall(tweetDir)\n",
    "json_tweet_files=glob.glob(tweetDir+'master*.json')"
   ]
  },
  {
   "cell_type": "code",
   "execution_count": 10,
   "metadata": {},
   "outputs": [
    {
     "name": "stdout",
     "output_type": "stream",
     "text": [
      "Reading in tweets from json files ......... Done.\n"
     ]
    }
   ],
   "source": [
    "print(\"Reading in tweets from json files \",end='')\n",
    "TweetDicts={}\n",
    "for fn in json_tweet_files:\n",
    "    print(\".\",end='');yr=int(re.search('_(\\d{4}).json',fn).groups()[0])\n",
    "    with open(fn) as f: TweetDicts[yr]=json.load(f)\n",
    "print(\" Done.\")"
   ]
  },
  {
   "cell_type": "code",
   "execution_count": 12,
   "metadata": {},
   "outputs": [],
   "source": [
    "import pandas as pd\n",
    "df=pd.DataFrame.from_records([ TweetDicts.values()))"
   ]
  },
  {
   "cell_type": "code",
   "execution_count": 22,
   "metadata": {},
   "outputs": [],
   "source": [
    "tt2017=TweetDicts[2017]"
   ]
  },
  {
   "cell_type": "code",
   "execution_count": 23,
   "metadata": {},
   "outputs": [
    {
     "data": {
      "text/plain": [
       "[{'contributors': None,\n",
       "  'coordinates': None,\n",
       "  'created_at': 'Sat Oct 14 11:27:00 +0000 2017',\n",
       "  'display_text_range': [0, 137],\n",
       "  'entities': {'hashtags': [], 'symbols': [], 'urls': [], 'user_mentions': []},\n",
       "  'favorite_count': 44173,\n",
       "  'favorited': False,\n",
       "  'full_text': 'Very proud of my Executive Order which will allow greatly expanded access and far lower costs for HealthCare. Millions of people benefit!',\n",
       "  'geo': None,\n",
       "  'id': 919162619889704961,\n",
       "  'id_str': '919162619889704961',\n",
       "  'in_reply_to_screen_name': None,\n",
       "  'in_reply_to_status_id': None,\n",
       "  'in_reply_to_status_id_str': None,\n",
       "  'in_reply_to_user_id': None,\n",
       "  'in_reply_to_user_id_str': None,\n",
       "  'is_quote_status': False,\n",
       "  'lang': 'en',\n",
       "  'place': None,\n",
       "  'retweet_count': 8843,\n",
       "  'retweeted': False,\n",
       "  'source': '<a href=\"http://twitter.com/download/iphone\" rel=\"nofollow\">Twitter for iPhone</a>',\n",
       "  'truncated': False,\n",
       "  'user': {'contributors_enabled': False,\n",
       "   'created_at': 'Wed Mar 18 13:46:38 +0000 2009',\n",
       "   'default_profile': False,\n",
       "   'default_profile_image': False,\n",
       "   'description': '45th President of the United States of America🇺🇸',\n",
       "   'entities': {'description': {'urls': []}},\n",
       "   'favourites_count': 17,\n",
       "   'follow_request_sent': False,\n",
       "   'followers_count': 40547283,\n",
       "   'following': True,\n",
       "   'friends_count': 45,\n",
       "   'geo_enabled': True,\n",
       "   'has_extended_profile': False,\n",
       "   'id': 25073877,\n",
       "   'id_str': '25073877',\n",
       "   'is_translation_enabled': True,\n",
       "   'is_translator': False,\n",
       "   'lang': 'en',\n",
       "   'listed_count': 77595,\n",
       "   'location': 'Washington, DC',\n",
       "   'name': 'Donald J. Trump',\n",
       "   'notifications': True,\n",
       "   'profile_background_color': '6D5C18',\n",
       "   'profile_background_image_url': 'http://pbs.twimg.com/profile_background_images/530021613/trump_scotland__43_of_70_cc.jpg',\n",
       "   'profile_background_image_url_https': 'https://pbs.twimg.com/profile_background_images/530021613/trump_scotland__43_of_70_cc.jpg',\n",
       "   'profile_background_tile': True,\n",
       "   'profile_banner_url': 'https://pbs.twimg.com/profile_banners/25073877/1506284043',\n",
       "   'profile_image_url': 'http://pbs.twimg.com/profile_images/874276197357596672/kUuht00m_normal.jpg',\n",
       "   'profile_image_url_https': 'https://pbs.twimg.com/profile_images/874276197357596672/kUuht00m_normal.jpg',\n",
       "   'profile_link_color': '1B95E0',\n",
       "   'profile_sidebar_border_color': 'BDDCAD',\n",
       "   'profile_sidebar_fill_color': 'C5CEC0',\n",
       "   'profile_text_color': '333333',\n",
       "   'profile_use_background_image': True,\n",
       "   'protected': False,\n",
       "   'screen_name': 'realDonaldTrump',\n",
       "   'statuses_count': 36093,\n",
       "   'time_zone': 'Eastern Time (US & Canada)',\n",
       "   'translator_type': 'regular',\n",
       "   'url': None,\n",
       "   'utc_offset': -14400,\n",
       "   'verified': True}},\n",
       " {'contributors': None,\n",
       "  'coordinates': None,\n",
       "  'created_at': 'Sat Oct 14 11:18:49 +0000 2017',\n",
       "  'display_text_range': [0, 138],\n",
       "  'entities': {'hashtags': [], 'symbols': [], 'urls': [], 'user_mentions': []},\n",
       "  'favorite_count': 34038,\n",
       "  'favorited': False,\n",
       "  'full_text': 'Health Insurance stocks, which have gone through the roof during the ObamaCare years, plunged yesterday after I ended their Dems windfall!',\n",
       "  'geo': None,\n",
       "  'id': 919160558712172544,\n",
       "  'id_str': '919160558712172544',\n",
       "  'in_reply_to_screen_name': None,\n",
       "  'in_reply_to_status_id': None,\n",
       "  'in_reply_to_status_id_str': None,\n",
       "  'in_reply_to_user_id': None,\n",
       "  'in_reply_to_user_id_str': None,\n",
       "  'is_quote_status': False,\n",
       "  'lang': 'en',\n",
       "  'place': None,\n",
       "  'retweet_count': 7587,\n",
       "  'retweeted': False,\n",
       "  'source': '<a href=\"http://twitter.com/download/iphone\" rel=\"nofollow\">Twitter for iPhone</a>',\n",
       "  'truncated': False,\n",
       "  'user': {'contributors_enabled': False,\n",
       "   'created_at': 'Wed Mar 18 13:46:38 +0000 2009',\n",
       "   'default_profile': False,\n",
       "   'default_profile_image': False,\n",
       "   'description': '45th President of the United States of America🇺🇸',\n",
       "   'entities': {'description': {'urls': []}},\n",
       "   'favourites_count': 17,\n",
       "   'follow_request_sent': False,\n",
       "   'followers_count': 40547283,\n",
       "   'following': True,\n",
       "   'friends_count': 45,\n",
       "   'geo_enabled': True,\n",
       "   'has_extended_profile': False,\n",
       "   'id': 25073877,\n",
       "   'id_str': '25073877',\n",
       "   'is_translation_enabled': True,\n",
       "   'is_translator': False,\n",
       "   'lang': 'en',\n",
       "   'listed_count': 77595,\n",
       "   'location': 'Washington, DC',\n",
       "   'name': 'Donald J. Trump',\n",
       "   'notifications': True,\n",
       "   'profile_background_color': '6D5C18',\n",
       "   'profile_background_image_url': 'http://pbs.twimg.com/profile_background_images/530021613/trump_scotland__43_of_70_cc.jpg',\n",
       "   'profile_background_image_url_https': 'https://pbs.twimg.com/profile_background_images/530021613/trump_scotland__43_of_70_cc.jpg',\n",
       "   'profile_background_tile': True,\n",
       "   'profile_banner_url': 'https://pbs.twimg.com/profile_banners/25073877/1506284043',\n",
       "   'profile_image_url': 'http://pbs.twimg.com/profile_images/874276197357596672/kUuht00m_normal.jpg',\n",
       "   'profile_image_url_https': 'https://pbs.twimg.com/profile_images/874276197357596672/kUuht00m_normal.jpg',\n",
       "   'profile_link_color': '1B95E0',\n",
       "   'profile_sidebar_border_color': 'BDDCAD',\n",
       "   'profile_sidebar_fill_color': 'C5CEC0',\n",
       "   'profile_text_color': '333333',\n",
       "   'profile_use_background_image': True,\n",
       "   'protected': False,\n",
       "   'screen_name': 'realDonaldTrump',\n",
       "   'statuses_count': 36093,\n",
       "   'time_zone': 'Eastern Time (US & Canada)',\n",
       "   'translator_type': 'regular',\n",
       "   'url': None,\n",
       "   'utc_offset': -14400,\n",
       "   'verified': True}}]"
      ]
     },
     "execution_count": 23,
     "metadata": {},
     "output_type": "execute_result"
    }
   ],
   "source": [
    "tt2017[:2]"
   ]
  },
  {
   "cell_type": "code",
   "execution_count": 24,
   "metadata": {},
   "outputs": [],
   "source": [
    "df=pd.DataFrame.from_records(tt2017)"
   ]
  },
  {
   "cell_type": "code",
   "execution_count": 28,
   "metadata": {},
   "outputs": [],
   "source": [
    "rr=list(range(5))"
   ]
  },
  {
   "cell_type": "code",
   "execution_count": 36,
   "metadata": {},
   "outputs": [
    {
     "data": {
      "text/plain": [
       "[0, 1, 2, 3, 4, 0, 1, 2, 3, 4, 0, 1, 2, 3, 4, 0, 1, 2, 3, 4, 0, 1, 2, 3, 4]"
      ]
     },
     "execution_count": 36,
     "metadata": {},
     "output_type": "execute_result"
    }
   ],
   "source": [
    "[ ll for r in [rr]*5 for ll in r ]"
   ]
  }
 ],
 "metadata": {
  "hide_input": false,
  "kernelspec": {
   "display_name": "Python 3",
   "language": "python",
   "name": "python3"
  },
  "language_info": {
   "codemirror_mode": {
    "name": "ipython",
    "version": 3
   },
   "file_extension": ".py",
   "mimetype": "text/x-python",
   "name": "python",
   "nbconvert_exporter": "python",
   "pygments_lexer": "ipython3",
   "version": "3.5.2"
  },
  "toc": {
   "nav_menu": {},
   "number_sections": true,
   "sideBar": true,
   "skip_h1_title": false,
   "toc_cell": false,
   "toc_position": {},
   "toc_section_display": "block",
   "toc_window_display": false
  }
 },
 "nbformat": 4,
 "nbformat_minor": 2
}
