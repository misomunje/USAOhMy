{
 "cells": [
  {
   "cell_type": "code",
   "execution_count": 9,
   "metadata": {},
   "outputs": [
    {
     "data": {
      "text/html": [
       "<script>\n",
       "code_show=true; \n",
       "function code_toggle() {\n",
       "  if (code_show) {\n",
       "    $('div.input').each(function(id) {\n",
       "      el = $(this).find('.cm-variable:first');\n",
       "      if (id == 0 || el.text() == 'hide_me') {\n",
       "        $(this).hide();\n",
       "      }\n",
       "    });\n",
       "    $('div.output_prompt').css('opacity', 0);\n",
       "  } else {\n",
       "    $('div.input').each(function(id) {\n",
       "      $(this).show();\n",
       "    });\n",
       "    $('div.output_prompt').css('opacity', 1);\n",
       "  }\n",
       "  code_show = !code_show\n",
       "} \n",
       "$( document ).ready(code_toggle);\n",
       "</script>\n",
       "<form action=\"javascript:code_toggle()\"><input style=\"opacity:0\" type=\"submit\" value=\"Click here to toggle on/off the raw code.\"></form>"
      ],
      "text/plain": [
       "<IPython.core.display.HTML object>"
      ]
     },
     "execution_count": 9,
     "metadata": {},
     "output_type": "execute_result"
    }
   ],
   "source": [
    "# This is a cell to hide code snippets from displaying\n",
    "# This must be at first cell!\n",
    "\n",
    "from IPython.display import HTML\n",
    "\n",
    "hide_me = ''\n",
    "HTML('''<script>\n",
    "code_show=true; \n",
    "function code_toggle() {\n",
    "  if (code_show) {\n",
    "    $('div.input').each(function(id) {\n",
    "      el = $(this).find('.cm-variable:first');\n",
    "      if (id == 0 || el.text() == 'hide_me') {\n",
    "        $(this).hide();\n",
    "      }\n",
    "    });\n",
    "    $('div.output_prompt').css('opacity', 0);\n",
    "  } else {\n",
    "    $('div.input').each(function(id) {\n",
    "      $(this).show();\n",
    "    });\n",
    "    $('div.output_prompt').css('opacity', 1);\n",
    "  }\n",
    "  code_show = !code_show\n",
    "} \n",
    "$( document ).ready(code_toggle);\n",
    "</script>\n",
    "<form action=\"javascript:code_toggle()\"><input style=\"opacity:0\" type=\"submit\" value=\"Click here to toggle on/off the raw code.\"></form>''')"
   ]
  },
  {
   "cell_type": "markdown",
   "metadata": {},
   "source": [
    "# Trump Tweets"
   ]
  },
  {
   "cell_type": "markdown",
   "metadata": {},
   "source": [
    "Trump's tweets are available from [this](https://github.com/bpb27/trump_tweet_data_archive) github repository.  This repository drives the [Trump Twitter Archive](http://www.trumptwitterarchive.com/).\n",
    "\n",
    "This guy has sucked down tweets of other notable public people [here](https://github.com/bpb27/trump-tweet-archive). He also put his scraping tool up [here](https://github.com/bpb27/twitter_scraping).\n",
    "\n",
    "Let's pull down the data by grabbing the ```master.zip``` file. This is the entire archive. "
   ]
  },
  {
   "cell_type": "code",
   "execution_count": 18,
   "metadata": {},
   "outputs": [],
   "source": [
    "zipUrl=\"https://github.com/bpb27/trump_tweet_data_archive/archive/master.zip\""
   ]
  },
  {
   "cell_type": "markdown",
   "metadata": {},
   "source": [
    "We use python's requests library to do the http ```get``` and the ```zipfile``` to unpack it. We pull in ```os``` for file manipulation."
   ]
  },
  {
   "cell_type": "code",
   "execution_count": 19,
   "metadata": {},
   "outputs": [],
   "source": [
    "import requests,zipfile,os"
   ]
  },
  {
   "cell_type": "markdown",
   "metadata": {},
   "source": [
    "We are going to unpack this stuff into our Notebook's data directory."
   ]
  },
  {
   "cell_type": "code",
   "execution_count": 20,
   "metadata": {},
   "outputs": [],
   "source": [
    "zipLocal=\"Data/Trump Tweets/master.zip\"\n",
    "zipTargetDir=\"Data/Trump Tweets/\""
   ]
  },
  {
   "cell_type": "markdown",
   "metadata": {},
   "source": [
    "Execute the get, save the zip file, and extract it.  Note that I totally ignore protocol and do one line withs. Syntactic Freedom is still Freedom -- exercise it."
   ]
  },
  {
   "cell_type": "code",
   "execution_count": 21,
   "metadata": {},
   "outputs": [],
   "source": [
    "response = requests.get(zipUrl)\n",
    "with open(zipLocal,'wb') as f: f.write(response.content)\n",
    "with zipfile.ZipFile(zipLocal) as aZip: aZip.extractall(zipTargetDir)"
   ]
  },
  {
   "cell_type": "markdown",
   "metadata": {},
   "source": [
    "Let's see what we got."
   ]
  },
  {
   "cell_type": "code",
   "execution_count": 22,
   "metadata": {},
   "outputs": [],
   "source": [
    "hide_me\n",
    "def dirTree(rootDir='.'):\n",
    "    for dirName, subdirList, fileList in os.walk(rootDir):\n",
    "        print('Found directory: %s' % dirName)\n",
    "        for fname in fileList:\n",
    "            print('\\t%s' % fname)"
   ]
  },
  {
   "cell_type": "code",
   "execution_count": 23,
   "metadata": {},
   "outputs": [
    {
     "name": "stdout",
     "output_type": "stream",
     "text": [
      "Found directory: Data/Trump Tweets/\n",
      "\tmaster.zip\n",
      "Found directory: Data/Trump Tweets/Tweets\n",
      "Found directory: Data/Trump Tweets/trump_tweet_data_archive-master\n",
      "\t.gitignore\n",
      "\tREADME.md\n",
      "\tcondensed_2009.json.zip\n",
      "\tcondensed_2010.json.zip\n",
      "\tcondensed_2011.json.zip\n",
      "\tcondensed_2012.json.zip\n",
      "\tcondensed_2013.json.zip\n",
      "\tcondensed_2014.json.zip\n",
      "\tcondensed_2015.json.zip\n",
      "\tcondensed_2016.json.zip\n",
      "\tcondensed_2017.json.zip\n",
      "\tmaster_2009.json.zip\n",
      "\tmaster_2010.json.zip\n",
      "\tmaster_2011.json.zip\n",
      "\tmaster_2012.json.zip\n",
      "\tmaster_2013.json.zip\n",
      "\tmaster_2014.json.zip\n",
      "\tmaster_2015.json.zip\n",
      "\tmaster_2016.json.zip\n",
      "\tmaster_2017.json.zip\n"
     ]
    }
   ],
   "source": [
    "dirTree(zipTargetDir)"
   ]
  },
  {
   "cell_type": "markdown",
   "metadata": {},
   "source": [
    "# Parsing the Data"
   ]
  },
  {
   "cell_type": "markdown",
   "metadata": {},
   "source": [
    "First we find the file.  Ok, check out this Python 3.6 glob trick!. See the ```**```! It searches the whole subtree for this.  Where has this been my whole life?"
   ]
  },
  {
   "cell_type": "code",
   "execution_count": 31,
   "metadata": {},
   "outputs": [
    {
     "name": "stdout",
     "output_type": "stream",
     "text": [
      "Oh yeah...\n",
      "  Data/Trump Tweets/trump_tweet_data_archive-master/master_2009.json.zip\n",
      "  Data/Trump Tweets/trump_tweet_data_archive-master/master_2010.json.zip\n",
      "  Data/Trump Tweets/trump_tweet_data_archive-master/master_2011.json.zip\n",
      "  Data/Trump Tweets/trump_tweet_data_archive-master/master_2012.json.zip\n",
      "  Data/Trump Tweets/trump_tweet_data_archive-master/master_2013.json.zip\n",
      "  Data/Trump Tweets/trump_tweet_data_archive-master/master_2014.json.zip\n",
      "  Data/Trump Tweets/trump_tweet_data_archive-master/master_2015.json.zip\n",
      "  Data/Trump Tweets/trump_tweet_data_archive-master/master_2016.json.zip\n",
      "  Data/Trump Tweets/trump_tweet_data_archive-master/master_2017.json.zip\n"
     ]
    }
   ],
   "source": [
    "import glob\n",
    "json_tweet_zfiles=glob.glob(zipTargetDir+'**/master_*.zip')\n",
    "print('Oh yeah...\\n  '+'\\n  '.join(json_tweet_zfiles))"
   ]
  },
  {
   "cell_type": "code",
   "execution_count": 37,
   "metadata": {},
   "outputs": [],
   "source": [
    "tweetDir=zipTargetDir+'Tweets/'\n",
    "for fn in json_tweet_zfiles:\n",
    "    with zipfile.ZipFile(fn) as aZip: aZip.extractall(tweetDir)"
   ]
  },
  {
   "cell_type": "code",
   "execution_count": 41,
   "metadata": {},
   "outputs": [],
   "source": [
    "json_tweet_files=glob.glob(tweetDir+'master*.json')"
   ]
  },
  {
   "cell_type": "code",
   "execution_count": 46,
   "metadata": {},
   "outputs": [
    {
     "name": "stdout",
     "output_type": "stream",
     "text": [
      "Reading in tweets from json files ......... Done.\n"
     ]
    }
   ],
   "source": [
    "import json\n",
    "print(\"Reading in tweets from json files \",end='')\n",
    "TweetDicts={}\n",
    "for fn in json_tweet_files:\n",
    "    print(\".\",end='')\n",
    "    with open(fn) as f: TweetDicts[fn]=json.load(f)\n",
    "print(\" Done.\")"
   ]
  },
  {
   "cell_type": "code",
   "execution_count": null,
   "metadata": {},
   "outputs": [],
   "source": []
  }
 ],
 "metadata": {
  "kernelspec": {
   "display_name": "Python 3",
   "language": "python",
   "name": "python3"
  },
  "language_info": {
   "codemirror_mode": {
    "name": "ipython",
    "version": 3
   },
   "file_extension": ".py",
   "mimetype": "text/x-python",
   "name": "python",
   "nbconvert_exporter": "python",
   "pygments_lexer": "ipython3",
   "version": "3.5.2"
  }
 },
 "nbformat": 4,
 "nbformat_minor": 2
}
