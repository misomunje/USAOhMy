{
 "cells": [
  {
   "cell_type": "markdown",
   "metadata": {},
   "source": [
    "# Trump Tweets"
   ]
  },
  {
   "cell_type": "markdown",
   "metadata": {},
   "source": [
    "Trump's tweets are available from [this](https://github.com/bpb27/trump_tweet_data_archive) github repository.  This repository drives the [Trump Twitter Archive](http://www.trumptwitterarchive.com/).\n",
    "\n",
    "This guy has sucked down tweets of other notable public people [here](https://github.com/bpb27/trump-tweet-archive). He also put his scraping tool up [here](https://github.com/bpb27/twitter_scraping).\n",
    "\n",
    "Let's pull down the data by grabbing the ```master.zip``` file. This is the entire archive. "
   ]
  },
  {
   "cell_type": "code",
   "execution_count": 28,
   "metadata": {},
   "outputs": [],
   "source": [
    "zipUrl=\"https://github.com/bpb27/trump_tweet_data_archive/archive/master.zip\""
   ]
  },
  {
   "cell_type": "markdown",
   "metadata": {},
   "source": [
    "We use python's requests library to do the http ```get``` and the ```zipfile``` to unpack it. We pull in ```os``` for file manipulation."
   ]
  },
  {
   "cell_type": "code",
   "execution_count": 35,
   "metadata": {},
   "outputs": [],
   "source": [
    "import requests,zipfile,os"
   ]
  },
  {
   "cell_type": "markdown",
   "metadata": {},
   "source": [
    "We are going to unpack this stuff into our Notebook's data directory."
   ]
  },
  {
   "cell_type": "code",
   "execution_count": 36,
   "metadata": {},
   "outputs": [],
   "source": [
    "zipLocal=\"Data/Trump Tweets/master.zip\"\n",
    "zipTargetDir=\"Data/Trump Tweets/\""
   ]
  },
  {
   "cell_type": "markdown",
   "metadata": {},
   "source": [
    "Execute the get, save the zip file, and extract it.  Note that I totally ignore protocol and do one line withs. Syntactic Freedom is still Freedom -- exercise it."
   ]
  },
  {
   "cell_type": "code",
   "execution_count": 27,
   "metadata": {},
   "outputs": [],
   "source": [
    "response = requests.get(zipUrl)\n",
    "with open(zipLocal,'wb') as f: f.write(response.content)\n",
    "with zipfile.ZipFile(zipLocal) as aZip: aZip.extractall(zipTargetDir)"
   ]
  },
  {
   "cell_type": "markdown",
   "metadata": {},
   "source": [
    "Let's see what we got."
   ]
  },
  {
   "cell_type": "code",
   "execution_count": 32,
   "metadata": {},
   "outputs": [],
   "source": [
    "def dirTree(rootDir='.'):\n",
    "    for dirName, subdirList, fileList in os.walk(rootDir):\n",
    "        print('Found directory: %s' % dirName)\n",
    "        for fname in fileList:\n",
    "            print('\\t%s' % fname)"
   ]
  },
  {
   "cell_type": "code",
   "execution_count": 34,
   "metadata": {},
   "outputs": [
    {
     "name": "stdout",
     "output_type": "stream",
     "text": [
      "Found directory: Data/Trump Tweets/\n",
      "\tmaster.zip\n",
      "Found directory: Data/Trump Tweets/Tweets\n",
      "Found directory: Data/Trump Tweets/trump_tweet_data_archive-master\n",
      "\t.gitignore\n",
      "\tREADME.md\n",
      "\tcondensed_2009.json.zip\n",
      "\tcondensed_2010.json.zip\n",
      "\tcondensed_2011.json.zip\n",
      "\tcondensed_2012.json.zip\n",
      "\tcondensed_2013.json.zip\n",
      "\tcondensed_2014.json.zip\n",
      "\tcondensed_2015.json.zip\n",
      "\tcondensed_2016.json.zip\n",
      "\tcondensed_2017.json.zip\n",
      "\tmaster_2009.json.zip\n",
      "\tmaster_2010.json.zip\n",
      "\tmaster_2011.json.zip\n",
      "\tmaster_2012.json.zip\n",
      "\tmaster_2013.json.zip\n",
      "\tmaster_2014.json.zip\n",
      "\tmaster_2015.json.zip\n",
      "\tmaster_2016.json.zip\n",
      "\tmaster_2017.json.zip\n"
     ]
    }
   ],
   "source": [
    "dirTree(zipTargetDir)"
   ]
  },
  {
   "cell_type": "markdown",
   "metadata": {},
   "source": []
  }
 ],
 "metadata": {
  "kernelspec": {
   "display_name": "Python 3",
   "language": "python",
   "name": "python3"
  },
  "language_info": {
   "codemirror_mode": {
    "name": "ipython",
    "version": 3
   },
   "file_extension": ".py",
   "mimetype": "text/x-python",
   "name": "python",
   "nbconvert_exporter": "python",
   "pygments_lexer": "ipython3",
   "version": "3.5.2"
  }
 },
 "nbformat": 4,
 "nbformat_minor": 2
}
